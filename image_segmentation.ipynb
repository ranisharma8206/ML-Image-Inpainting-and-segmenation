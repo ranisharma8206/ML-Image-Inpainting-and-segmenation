{
  "nbformat": 4,
  "nbformat_minor": 0,
  "metadata": {
    "accelerator": "GPU",
    "colab": {
      "name": "image_segmentation.ipynb",
      "provenance": [],
      "collapsed_sections": [],
      "authorship_tag": "ABX9TyNb0Yfywsl5NXlinK9bB7No",
      "include_colab_link": true
    },
    "kernelspec": {
      "display_name": "Python 3",
      "name": "python3"
    },
    "language_info": {
      "name": "python"
    }
  },
  "cells": [
    {
      "cell_type": "markdown",
      "metadata": {
        "id": "view-in-github",
        "colab_type": "text"
      },
      "source": [
        "<a href=\"https://colab.research.google.com/github/ranisharma8206/ML-Image-Inpainting-and-segmenation/blob/main/image_segmentation.ipynb\" target=\"_parent\"><img src=\"https://colab.research.google.com/assets/colab-badge.svg\" alt=\"Open In Colab\"/></a>"
      ]
    },
    {
      "cell_type": "markdown",
      "metadata": {
        "id": "jPdzgVmZlUT6"
      },
      "source": [
        "**Mounting google drive to download the dataset**"
      ]
    },
    {
      "cell_type": "code",
      "metadata": {
        "colab": {
          "base_uri": "https://localhost:8080/"
        },
        "id": "YnGqz_bolToX",
        "outputId": "6b52281f-7073-414f-8ab7-1b7d1f502850"
      },
      "source": [
        "from google.colab import drive\n",
        "drive.mount('/content/drive')"
      ],
      "execution_count": 1,
      "outputs": [
        {
          "output_type": "stream",
          "text": [
            "Mounted at /content/drive\n"
          ],
          "name": "stdout"
        }
      ]
    },
    {
      "cell_type": "markdown",
      "metadata": {
        "id": "YnfbITRqd4gY"
      },
      "source": [
        "**Importing Modules and library needed**"
      ]
    },
    {
      "cell_type": "code",
      "metadata": {
        "id": "ibjSM7IsyJPl"
      },
      "source": [
        "import numpy as np\n",
        "from tensorflow import keras\n",
        "from matplotlib import pyplot as plt"
      ],
      "execution_count": 2,
      "outputs": []
    },
    {
      "cell_type": "markdown",
      "metadata": {
        "id": "FNDPDTkHe_KA"
      },
      "source": [
        "**Downloading dataset (32x32 inpainted image and its mask)**"
      ]
    },
    {
      "cell_type": "code",
      "metadata": {
        "id": "HPzE_lKlyKD-"
      },
      "source": [
        "masks_32x32x3 = np.load('/content/drive/MyDrive/Machine Learning data/9600 Images/output_mask.npy')\n",
        "inpainted_images_32x32x3 = np.load('/content/drive/MyDrive/Machine Learning data/9600 Images/output_inpainted_image.npy')"
      ],
      "execution_count": 3,
      "outputs": []
    },
    {
      "cell_type": "markdown",
      "metadata": {
        "id": "npWdEpuZjw6z"
      },
      "source": [
        "**Declaring some useful variables**"
      ]
    },
    {
      "cell_type": "code",
      "metadata": {
        "id": "oMYzdapC696_"
      },
      "source": [
        "inpainted_image_size = (32, 32, 3)\n",
        "num_classes = 2\n",
        "batch_size = 1"
      ],
      "execution_count": 4,
      "outputs": []
    },
    {
      "cell_type": "markdown",
      "metadata": {
        "id": "oFreGcetfuHN"
      },
      "source": [
        "**Method to change shape of mask from (32,32,3) to (32,32,1)**"
      ]
    },
    {
      "cell_type": "code",
      "metadata": {
        "id": "g_3g0gLhyO99"
      },
      "source": [
        "def change_mask_shape(masks_32x32x3):\n",
        "  masks_32x32x1 = []\n",
        "  for i in range(len(masks_32x32x3)):\n",
        "    temp1 = []\n",
        "    for j in range(32):\n",
        "      temp2 = []\n",
        "      for k in range(32):\n",
        "        if masks_32x32x3[i][j][k][0] == 0:\n",
        "          temp2.append([0])\n",
        "        else:\n",
        "          temp2.append([1])\n",
        "      temp1.append(temp2)\n",
        "    masks_32x32x1.append(temp1)\n",
        "  return masks_32x32x1\n",
        "\n",
        "masks_32x32x1_list = change_mask_shape(masks_32x32x3)\n",
        "masks_32x32x1 = np.asarray(masks_32x32x1_list);"
      ],
      "execution_count": 5,
      "outputs": []
    },
    {
      "cell_type": "markdown",
      "metadata": {
        "id": "3V1w4WzW7P-O"
      },
      "source": [
        "**Method to divide the dataset into the batch size**"
      ]
    },
    {
      "cell_type": "code",
      "metadata": {
        "id": "a_op_1j_3z_Z"
      },
      "source": [
        "class Batching_Dataset(keras.utils.Sequence):\n",
        "    \"\"\"Helper to iterate over the data (as Numpy arrays).\"\"\"\n",
        "\n",
        "    def __init__(self, batch_size, inpainted_images, masks):\n",
        "        self.batch_size = batch_size\n",
        "        self.inpainted_images = inpainted_images\n",
        "        self.masks = masks\n",
        "\n",
        "    def __len__(self):\n",
        "        return len(self.masks) // self.batch_size\n",
        "\n",
        "    def __getitem__(self, idx):\n",
        "        \"\"\"Returns tuple (input, target) correspond to batch #idx.\"\"\"\n",
        "        i = idx * self.batch_size\n",
        "        batch_inpainted_images = self.inpainted_images[i : i + self.batch_size]\n",
        "        batch_masks = self.masks[i : i + self.batch_size]\n",
        "        return batch_masks, batch_inpainted_images"
      ],
      "execution_count": 6,
      "outputs": []
    },
    {
      "cell_type": "markdown",
      "metadata": {
        "id": "pZyT4lGU7MFz"
      },
      "source": [
        "**U-net Model for Binary Image Segmentation**"
      ]
    },
    {
      "cell_type": "code",
      "metadata": {
        "colab": {
          "base_uri": "https://localhost:8080/"
        },
        "id": "q2z5UoJI4Ka8",
        "outputId": "b1e3d0f3-21f6-46b5-fc05-2f3c0b975646"
      },
      "source": [
        "import tensorflow as tf\n",
        "\n",
        "\n",
        "def get_model(img_size, num_classes):\n",
        "    inputs = tf.keras.layers.Input(img_size)\n",
        "\n",
        "    #Downscaling dataset\n",
        "    c1 = tf.keras.layers.Conv2D(16, (3, 3), activation='relu', kernel_initializer='he_normal', padding='same')(inputs)\n",
        "    p1 = tf.keras.layers.MaxPooling2D((2, 2))(c1)\n",
        "\n",
        "    c2 = tf.keras.layers.Conv2D(32, (3, 3), activation='relu', kernel_initializer='he_normal', padding='same')(p1)\n",
        "    p2 = tf.keras.layers.MaxPooling2D((2, 2))(c2)\n",
        "    \n",
        "    c3 = tf.keras.layers.Conv2D(64, (3, 3), activation='relu', kernel_initializer='he_normal', padding='same')(p2)\n",
        "    p3 = tf.keras.layers.MaxPooling2D((2, 2))(c3)\n",
        "    \n",
        "    c4 = tf.keras.layers.Conv2D(128, (3, 3), activation='relu', kernel_initializer='he_normal', padding='same')(p3)\n",
        "    p4 = tf.keras.layers.MaxPooling2D(pool_size=(2, 2))(c4)\n",
        "    \n",
        "    c5 = tf.keras.layers.Conv2D(256, (3, 3), activation='relu', kernel_initializer='he_normal', padding='same')(p4)\n",
        "\n",
        "    #Upscaling dataset\n",
        "    u6 = tf.keras.layers.Conv2DTranspose(128, (2, 2), strides=(2, 2), padding='same')(c5)\n",
        "    u6 = tf.keras.layers.concatenate([u6, c4])\n",
        "    c6 = tf.keras.layers.Conv2D(128, (3, 3), activation='relu', kernel_initializer='he_normal', padding='same')(u6)\n",
        "    \n",
        "    u7 = tf.keras.layers.Conv2DTranspose(64, (2, 2), strides=(2, 2), padding='same')(c6)\n",
        "    u7 = tf.keras.layers.concatenate([u7, c3])\n",
        "    c7 = tf.keras.layers.Conv2D(64, (3, 3), activation='relu', kernel_initializer='he_normal', padding='same')(u7)\n",
        "    \n",
        "    u8 = tf.keras.layers.Conv2DTranspose(32, (2, 2), strides=(2, 2), padding='same')(c7)\n",
        "    u8 = tf.keras.layers.concatenate([u8, c2])\n",
        "    c8 = tf.keras.layers.Conv2D(32, (3, 3), activation='relu', kernel_initializer='he_normal', padding='same')(u8)\n",
        "    \n",
        "    u9 = tf.keras.layers.Conv2DTranspose(16, (2, 2), strides=(2, 2), padding='same')(c8)\n",
        "    u9 = tf.keras.layers.concatenate([u9, c1], axis=3)\n",
        "    c9 = tf.keras.layers.Conv2D(16, (3, 3), activation='relu', kernel_initializer='he_normal', padding='same')(u9)\n",
        "    \n",
        "    outputs = tf.keras.layers.Conv2D(1, (1, 1), activation='sigmoid')(c9)\n",
        "    \n",
        "    model = tf.keras.Model(inputs=[inputs], outputs=[outputs])\n",
        "    return model\n",
        "    \n",
        "keras.backend.clear_session()\n",
        "\n",
        "# Build model\n",
        "model = get_model(inpainted_image_size, num_classes)\n",
        "model.summary()\n",
        "\n",
        "    "
      ],
      "execution_count": 7,
      "outputs": [
        {
          "output_type": "stream",
          "text": [
            "Model: \"model\"\n",
            "__________________________________________________________________________________________________\n",
            "Layer (type)                    Output Shape         Param #     Connected to                     \n",
            "==================================================================================================\n",
            "input_1 (InputLayer)            [(None, 32, 32, 3)]  0                                            \n",
            "__________________________________________________________________________________________________\n",
            "conv2d (Conv2D)                 (None, 32, 32, 16)   448         input_1[0][0]                    \n",
            "__________________________________________________________________________________________________\n",
            "max_pooling2d (MaxPooling2D)    (None, 16, 16, 16)   0           conv2d[0][0]                     \n",
            "__________________________________________________________________________________________________\n",
            "conv2d_1 (Conv2D)               (None, 16, 16, 32)   4640        max_pooling2d[0][0]              \n",
            "__________________________________________________________________________________________________\n",
            "max_pooling2d_1 (MaxPooling2D)  (None, 8, 8, 32)     0           conv2d_1[0][0]                   \n",
            "__________________________________________________________________________________________________\n",
            "conv2d_2 (Conv2D)               (None, 8, 8, 64)     18496       max_pooling2d_1[0][0]            \n",
            "__________________________________________________________________________________________________\n",
            "max_pooling2d_2 (MaxPooling2D)  (None, 4, 4, 64)     0           conv2d_2[0][0]                   \n",
            "__________________________________________________________________________________________________\n",
            "conv2d_3 (Conv2D)               (None, 4, 4, 128)    73856       max_pooling2d_2[0][0]            \n",
            "__________________________________________________________________________________________________\n",
            "max_pooling2d_3 (MaxPooling2D)  (None, 2, 2, 128)    0           conv2d_3[0][0]                   \n",
            "__________________________________________________________________________________________________\n",
            "conv2d_4 (Conv2D)               (None, 2, 2, 256)    295168      max_pooling2d_3[0][0]            \n",
            "__________________________________________________________________________________________________\n",
            "conv2d_transpose (Conv2DTranspo (None, 4, 4, 128)    131200      conv2d_4[0][0]                   \n",
            "__________________________________________________________________________________________________\n",
            "concatenate (Concatenate)       (None, 4, 4, 256)    0           conv2d_transpose[0][0]           \n",
            "                                                                 conv2d_3[0][0]                   \n",
            "__________________________________________________________________________________________________\n",
            "conv2d_5 (Conv2D)               (None, 4, 4, 128)    295040      concatenate[0][0]                \n",
            "__________________________________________________________________________________________________\n",
            "conv2d_transpose_1 (Conv2DTrans (None, 8, 8, 64)     32832       conv2d_5[0][0]                   \n",
            "__________________________________________________________________________________________________\n",
            "concatenate_1 (Concatenate)     (None, 8, 8, 128)    0           conv2d_transpose_1[0][0]         \n",
            "                                                                 conv2d_2[0][0]                   \n",
            "__________________________________________________________________________________________________\n",
            "conv2d_6 (Conv2D)               (None, 8, 8, 64)     73792       concatenate_1[0][0]              \n",
            "__________________________________________________________________________________________________\n",
            "conv2d_transpose_2 (Conv2DTrans (None, 16, 16, 32)   8224        conv2d_6[0][0]                   \n",
            "__________________________________________________________________________________________________\n",
            "concatenate_2 (Concatenate)     (None, 16, 16, 64)   0           conv2d_transpose_2[0][0]         \n",
            "                                                                 conv2d_1[0][0]                   \n",
            "__________________________________________________________________________________________________\n",
            "conv2d_7 (Conv2D)               (None, 16, 16, 32)   18464       concatenate_2[0][0]              \n",
            "__________________________________________________________________________________________________\n",
            "conv2d_transpose_3 (Conv2DTrans (None, 32, 32, 16)   2064        conv2d_7[0][0]                   \n",
            "__________________________________________________________________________________________________\n",
            "concatenate_3 (Concatenate)     (None, 32, 32, 32)   0           conv2d_transpose_3[0][0]         \n",
            "                                                                 conv2d[0][0]                     \n",
            "__________________________________________________________________________________________________\n",
            "conv2d_8 (Conv2D)               (None, 32, 32, 16)   4624        concatenate_3[0][0]              \n",
            "__________________________________________________________________________________________________\n",
            "conv2d_9 (Conv2D)               (None, 32, 32, 1)    17          conv2d_8[0][0]                   \n",
            "==================================================================================================\n",
            "Total params: 958,865\n",
            "Trainable params: 958,865\n",
            "Non-trainable params: 0\n",
            "__________________________________________________________________________________________________\n"
          ],
          "name": "stdout"
        }
      ]
    },
    {
      "cell_type": "markdown",
      "metadata": {
        "id": "7tSna24lj-ha"
      },
      "source": [
        "**Dividing the dataset into training data and validation data**"
      ]
    },
    {
      "cell_type": "code",
      "metadata": {
        "id": "6cyPyC0-7UeT"
      },
      "source": [
        "train_gen = Batching_Dataset(batch_size, masks_32x32x1[0:7000], inpainted_images_32x32x3[0:7000])\n",
        "val_gen = Batching_Dataset(batch_size, masks_32x32x1[7000:9500], inpainted_images_32x32x3[7000:9500])"
      ],
      "execution_count": 8,
      "outputs": []
    },
    {
      "cell_type": "markdown",
      "metadata": {
        "id": "bj2zFrUZ2AYE"
      },
      "source": [
        "**Training Model**"
      ]
    },
    {
      "cell_type": "code",
      "metadata": {
        "colab": {
          "base_uri": "https://localhost:8080/"
        },
        "id": "IXaBGg2173zZ",
        "outputId": "f7bae1d2-8ded-46f5-cdda-c1e3b78d2e16"
      },
      "source": [
        "model.compile(optimizer='adam', loss='binary_crossentropy', metrics=['accuracy'])\n",
        "\n",
        "# Train the model, doing validation at the end of each epoch.\n",
        "epochs = 30\n",
        "model.fit(train_gen, epochs=epochs, validation_data=val_gen)"
      ],
      "execution_count": 9,
      "outputs": [
        {
          "output_type": "stream",
          "text": [
            "Epoch 1/30\n",
            "7000/7000 [==============================] - 89s 8ms/step - loss: 0.3907 - accuracy: 0.8528 - val_loss: 0.3483 - val_accuracy: 0.8664\n",
            "Epoch 2/30\n",
            "7000/7000 [==============================] - 53s 8ms/step - loss: 0.3273 - accuracy: 0.8764 - val_loss: 0.2812 - val_accuracy: 0.8957\n",
            "Epoch 3/30\n",
            "7000/7000 [==============================] - 54s 8ms/step - loss: 0.2755 - accuracy: 0.8971 - val_loss: 0.2548 - val_accuracy: 0.9044\n",
            "Epoch 4/30\n",
            "7000/7000 [==============================] - 53s 8ms/step - loss: 0.2457 - accuracy: 0.9072 - val_loss: 0.2326 - val_accuracy: 0.9125\n",
            "Epoch 5/30\n",
            "7000/7000 [==============================] - 54s 8ms/step - loss: 0.2281 - accuracy: 0.9134 - val_loss: 0.2132 - val_accuracy: 0.9189\n",
            "Epoch 6/30\n",
            "7000/7000 [==============================] - 54s 8ms/step - loss: 0.2121 - accuracy: 0.9190 - val_loss: 0.2121 - val_accuracy: 0.9195\n",
            "Epoch 7/30\n",
            "7000/7000 [==============================] - 54s 8ms/step - loss: 0.2010 - accuracy: 0.9228 - val_loss: 0.1961 - val_accuracy: 0.9248\n",
            "Epoch 8/30\n",
            "7000/7000 [==============================] - 54s 8ms/step - loss: 0.1933 - accuracy: 0.9253 - val_loss: 0.1954 - val_accuracy: 0.9247\n",
            "Epoch 9/30\n",
            "7000/7000 [==============================] - 54s 8ms/step - loss: 0.1860 - accuracy: 0.9280 - val_loss: 0.1855 - val_accuracy: 0.9278\n",
            "Epoch 10/30\n",
            "7000/7000 [==============================] - 54s 8ms/step - loss: 0.1824 - accuracy: 0.9292 - val_loss: 0.1859 - val_accuracy: 0.9284\n",
            "Epoch 11/30\n",
            "7000/7000 [==============================] - 54s 8ms/step - loss: 0.1780 - accuracy: 0.9308 - val_loss: 0.1760 - val_accuracy: 0.9313\n",
            "Epoch 12/30\n",
            "7000/7000 [==============================] - 55s 8ms/step - loss: 0.1738 - accuracy: 0.9323 - val_loss: 0.1765 - val_accuracy: 0.9315\n",
            "Epoch 13/30\n",
            "7000/7000 [==============================] - 54s 8ms/step - loss: 0.1702 - accuracy: 0.9335 - val_loss: 0.1803 - val_accuracy: 0.9297\n",
            "Epoch 14/30\n",
            "7000/7000 [==============================] - 54s 8ms/step - loss: 0.1666 - accuracy: 0.9351 - val_loss: 0.1830 - val_accuracy: 0.9312\n",
            "Epoch 15/30\n",
            "7000/7000 [==============================] - 54s 8ms/step - loss: 0.1626 - accuracy: 0.9367 - val_loss: 0.1638 - val_accuracy: 0.9361\n",
            "Epoch 16/30\n",
            "7000/7000 [==============================] - 54s 8ms/step - loss: 0.1599 - accuracy: 0.9374 - val_loss: 0.1724 - val_accuracy: 0.9338\n",
            "Epoch 17/30\n",
            "7000/7000 [==============================] - 54s 8ms/step - loss: 0.1588 - accuracy: 0.9379 - val_loss: 0.1647 - val_accuracy: 0.9361\n",
            "Epoch 18/30\n",
            "7000/7000 [==============================] - 55s 8ms/step - loss: 0.1564 - accuracy: 0.9390 - val_loss: 0.1604 - val_accuracy: 0.9376\n",
            "Epoch 19/30\n",
            "7000/7000 [==============================] - 55s 8ms/step - loss: 0.1535 - accuracy: 0.9400 - val_loss: 0.1622 - val_accuracy: 0.9375\n",
            "Epoch 20/30\n",
            "7000/7000 [==============================] - 54s 8ms/step - loss: 0.1532 - accuracy: 0.9401 - val_loss: 0.1617 - val_accuracy: 0.9373\n",
            "Epoch 21/30\n",
            "7000/7000 [==============================] - 54s 8ms/step - loss: 0.1501 - accuracy: 0.9413 - val_loss: 0.1717 - val_accuracy: 0.9339\n",
            "Epoch 22/30\n",
            "7000/7000 [==============================] - 54s 8ms/step - loss: 0.1499 - accuracy: 0.9413 - val_loss: 0.1576 - val_accuracy: 0.9395\n",
            "Epoch 23/30\n",
            "7000/7000 [==============================] - 54s 8ms/step - loss: 0.1482 - accuracy: 0.9421 - val_loss: 0.1550 - val_accuracy: 0.9401\n",
            "Epoch 24/30\n",
            "7000/7000 [==============================] - 54s 8ms/step - loss: 0.1470 - accuracy: 0.9424 - val_loss: 0.1550 - val_accuracy: 0.9404\n",
            "Epoch 25/30\n",
            "7000/7000 [==============================] - 54s 8ms/step - loss: 0.1460 - accuracy: 0.9428 - val_loss: 0.1590 - val_accuracy: 0.9388\n",
            "Epoch 26/30\n",
            "7000/7000 [==============================] - 54s 8ms/step - loss: 0.1421 - accuracy: 0.9446 - val_loss: 0.1505 - val_accuracy: 0.9414\n",
            "Epoch 27/30\n",
            "7000/7000 [==============================] - 54s 8ms/step - loss: 0.1410 - accuracy: 0.9450 - val_loss: 0.1496 - val_accuracy: 0.9417\n",
            "Epoch 28/30\n",
            "7000/7000 [==============================] - 54s 8ms/step - loss: 0.1415 - accuracy: 0.9446 - val_loss: 0.1496 - val_accuracy: 0.9423\n",
            "Epoch 29/30\n",
            "7000/7000 [==============================] - 54s 8ms/step - loss: 0.1398 - accuracy: 0.9453 - val_loss: 0.1526 - val_accuracy: 0.9410\n",
            "Epoch 30/30\n",
            "7000/7000 [==============================] - 54s 8ms/step - loss: 0.1378 - accuracy: 0.9461 - val_loss: 0.1491 - val_accuracy: 0.9423\n"
          ],
          "name": "stdout"
        },
        {
          "output_type": "execute_result",
          "data": {
            "text/plain": [
              "<tensorflow.python.keras.callbacks.History at 0x7f93c0160a10>"
            ]
          },
          "metadata": {
            "tags": []
          },
          "execution_count": 9
        }
      ]
    },
    {
      "cell_type": "markdown",
      "metadata": {
        "id": "s9E0mM8i3P1V"
      },
      "source": [
        "**Method to display the mask**"
      ]
    },
    {
      "cell_type": "code",
      "metadata": {
        "id": "FnW2J27BSt_K"
      },
      "source": [
        "def return_mask(mask_32x32x1):\n",
        "  output_mask_list = []\n",
        "  for i in range(32):\n",
        "    temp = []\n",
        "    for j in range(32):\n",
        "      if mask_32x32x1[i][j][0] < 0.4:\n",
        "        temp.append([0.,0.,0.])\n",
        "      elif mask_32x32x1[i][j][0] > 0.8:\n",
        "        temp.append([1.,1.,1.])\n",
        "      else:\n",
        "        temp.append([0.5,0.5,0.5])\n",
        "    output_mask_list.append(temp)\n",
        "  output_mask = np.asarray(output_mask_list)\n",
        "  return output_mask "
      ],
      "execution_count": 10,
      "outputs": []
    },
    {
      "cell_type": "markdown",
      "metadata": {
        "id": "yU3rpK6r5KGF"
      },
      "source": [
        "**Method to Visualise Prediction**"
      ]
    },
    {
      "cell_type": "code",
      "metadata": {
        "id": "j6TaBTHJ6QKr"
      },
      "source": [
        "def visualise_prediction(index, base):\n",
        "  for i in range(10):\n",
        "    prediction  = model.predict(val_gen)\n",
        "    predicted_mask = return_mask(prediction[index+i])\n",
        "    ground_truth_mask = return_mask(masks_32x32x1[base+index+i])\n",
        "    f = plt.figure()\n",
        "    f.add_subplot(1,3, 1)\n",
        "    plt.imshow(predicted_mask, cmap='gray')\n",
        "    f.add_subplot(1,3, 2)\n",
        "    plt.imshow(ground_truth_mask, cmap='gray')\n",
        "    f.add_subplot(1,3, 3)\n",
        "    plt.imshow(inpainted_images_32x32x3[base+index+i], cmap='gray')\n",
        "    plt.show(block=True)"
      ],
      "execution_count": 11,
      "outputs": []
    },
    {
      "cell_type": "markdown",
      "metadata": {
        "id": "pmBYq_wS6qGP"
      },
      "source": [
        "**Visualise Prediction**"
      ]
    },
    {
      "cell_type": "code",
      "metadata": {
        "id": "R7xgYzaEUTHn",
        "colab": {
          "base_uri": "https://localhost:8080/",
          "height": 1000
        },
        "outputId": "ca7b098f-8061-432f-f30e-8dcd968c12a1"
      },
      "source": [
        "visualise_prediction(20,7000)"
      ],
      "execution_count": 12,
      "outputs": [
        {
          "output_type": "display_data",
          "data": {
            "image/png": "[encoded data removed]",
            "text/plain": [
              "<Figure size 432x288 with 3 Axes>"
            ]
          },
          "metadata": {
            "tags": [],
            "needs_background": "light"
          }
        },
        {
          "output_type": "display_data",
          "data": {
            "image/png": "[encoded data removed]",
            "text/plain": [
              "<Figure size 432x288 with 3 Axes>"
            ]
          },
          "metadata": {
            "tags": [],
            "needs_background": "light"
          }
        },
        {
          "output_type": "display_data",
          "data": {
            "image/png": "[encoded data removed]",
            "text/plain": [
              "<Figure size 432x288 with 3 Axes>"
            ]
          },
          "metadata": {
            "tags": [],
            "needs_background": "light"
          }
        },
        {
          "output_type": "display_data",
          "data": {
            "image/png": "[encoded data removed]",
            "text/plain": [
              "<Figure size 432x288 with 3 Axes>"
            ]
          },
          "metadata": {
            "tags": [],
            "needs_background": "light"
          }
        },
        {
          "output_type": "display_data",
          "data": {
            "image/png": "[encoded data removed]",
            "text/plain": [
              "<Figure size 432x288 with 3 Axes>"
            ]
          },
          "metadata": {
            "tags": [],
            "needs_background": "light"
          }
        },
        {
          "output_type": "display_data",
          "data": {
            "image/png": "[encoded data removed]",
            "text/plain": [
              "<Figure size 432x288 with 3 Axes>"
            ]
          },
          "metadata": {
            "tags": [],
            "needs_background": "light"
          }
        },
        {
          "output_type": "display_data",
          "data": {
            "image/png": "[encoded data removed]",
            "text/plain": [
              "<Figure size 432x288 with 3 Axes>"
            ]
          },
          "metadata": {
            "tags": [],
            "needs_background": "light"
          }
        },
        {
          "output_type": "display_data",
          "data": {
            "image/png": "[encoded data removed]",
            "text/plain": [
              "<Figure size 432x288 with 3 Axes>"
            ]
          },
          "metadata": {
            "tags": [],
            "needs_background": "light"
          }
        },
        {
          "output_type": "display_data",
          "data": {
            "image/png": "[encoded data removed]",
            "text/plain": [
              "<Figure size 432x288 with 3 Axes>"
            ]
          },
          "metadata": {
            "tags": [],
            "needs_background": "light"
          }
        },
        {
          "output_type": "display_data",
          "data": {
            "image/png": "[encoded data removed]",
            "text/plain": [
              "<Figure size 432x288 with 3 Axes>"
            ]
          },
          "metadata": {
            "tags": [],
            "needs_background": "light"
          }
        }
      ]
    }
  ]
}